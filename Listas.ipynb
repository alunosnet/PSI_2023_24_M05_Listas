{
 "cells": [
  {
   "cell_type": "markdown",
   "metadata": {},
   "source": [
    "# Listas"
   ]
  },
  {
   "cell_type": "markdown",
   "metadata": {},
   "source": [
    "As listas são estruturas de dados que permitem armazenar um coleção de itens de forma dinâmica, ou seja, o número máximo de itens não necessita de estar definido no momento de criação da lista. Os elementos da lista pode ser de diferentes tipos, incluindo outras listas."
   ]
  },
  {
   "cell_type": "markdown",
   "metadata": {},
   "source": [
    "As listas são mutáveis sendo guardadas na memória como uma tabela de referências para os elementos que compõem a lista."
   ]
  },
  {
   "cell_type": "markdown",
   "metadata": {},
   "source": [
    "### Definir uma lista"
   ]
  },
  {
   "cell_type": "code",
   "execution_count": null,
   "metadata": {},
   "outputs": [],
   "source": [
    "#lista de números\n",
    "minha_lista=[1,2,3]\n",
    "#listas vazias\n",
    "lista_vazia=[]\n",
    "lista_vazia2=list()\n",
    "#lista de strings\n",
    "lista_nomes=[\"joaquim\",\"maria\",\"antónio\"]\n",
    "#lista com vários tipos de dados\n",
    "lista_mista=[1,\"joaquim\",[\"outra\",\"lista\"]]\n",
    "print(lista_mista)\n",
    "lista_de_cinco=list(range(5))\n",
    "print(lista_de_cinco)"
   ]
  },
  {
   "cell_type": "code",
   "execution_count": null,
   "metadata": {},
   "outputs": [],
   "source": [
    "print(id(minha_lista))\n",
    "print(type(minha_lista))"
   ]
  },
  {
   "cell_type": "markdown",
   "metadata": {},
   "source": [
    "As listas são referências para posições de memória"
   ]
  },
  {
   "cell_type": "code",
   "execution_count": null,
   "metadata": {},
   "outputs": [],
   "source": [
    "listaA=[1,2,3]\n",
    "listaB=listaA #não faz uma cópia da lista\n",
    "listaB[1]=4 #altera o elemento na posição 1 das duas listas\n",
    "print(listaA)\n",
    "print(id(listaA))\n",
    "print(id(listaB))"
   ]
  },
  {
   "cell_type": "markdown",
   "metadata": {},
   "source": [
    "### Fazer uma cópia de uma lista"
   ]
  },
  {
   "cell_type": "code",
   "execution_count": null,
   "metadata": {},
   "outputs": [],
   "source": [
    "listaA=[1,2,3]\n",
    "listaB=listaA[:]    #faz uma cópia\n",
    "listaB[1]=4 #só altera na listaB\n",
    "print(listaA)\n",
    "print(listaB)\n",
    "print(id(listaA))\n",
    "print(id(listaB))"
   ]
  },
  {
   "cell_type": "markdown",
   "metadata": {},
   "source": [
    "Esta cópia não funciona com todos os tipos de listas pois só copia as referências de primeiro nível. Isto significa que se a lista tiver outras listas isto não funciona. Para estas situações é necessário fazer uma cópia profunda <b>(deepcopy)</b> para isso existe uma função: <b>copy.deepcopy()</b>"
   ]
  },
  {
   "cell_type": "markdown",
   "metadata": {},
   "source": [
    "### Listar elementos"
   ]
  },
  {
   "cell_type": "code",
   "execution_count": null,
   "metadata": {},
   "outputs": [],
   "source": [
    "print(minha_lista[1])\n",
    "\n",
    "print(lista_nomes[0])\n",
    "\n",
    "print(lista_mista[2])\n",
    "\n",
    "print(lista_mista[2][1])"
   ]
  },
  {
   "cell_type": "markdown",
   "metadata": {},
   "source": [
    "### Listar todos"
   ]
  },
  {
   "cell_type": "code",
   "execution_count": null,
   "metadata": {},
   "outputs": [],
   "source": [
    "for item in minha_lista:\n",
    "    print(item)"
   ]
  },
  {
   "cell_type": "code",
   "execution_count": null,
   "metadata": {},
   "outputs": [],
   "source": [
    "for posicao in range(len(lista_nomes)):\n",
    "    print(lista_nomes[posicao])"
   ]
  },
  {
   "cell_type": "markdown",
   "metadata": {},
   "source": [
    "### Adicionar elementos a uma lista"
   ]
  },
  {
   "cell_type": "markdown",
   "metadata": {},
   "source": [
    "Método <b>append()</b> adiciona um item no final da lista"
   ]
  },
  {
   "cell_type": "code",
   "execution_count": null,
   "metadata": {},
   "outputs": [],
   "source": [
    "lista_cores=[\"vermelho\",\"verde\",\"azul\"]\n",
    "\n",
    "lista_cores.append(\"amarelo\")\n",
    "\n",
    "print(lista_cores)"
   ]
  },
  {
   "cell_type": "markdown",
   "metadata": {},
   "source": [
    "Método <b>insert()</b> insere um item numa posição específica:"
   ]
  },
  {
   "cell_type": "code",
   "execution_count": null,
   "metadata": {},
   "outputs": [],
   "source": [
    "lista_cidades=[\"Viseu\",\"Tondela\",\"Mangualde\"]\n",
    "lista_cidades.insert(0,\"Lisboa\")\n",
    "print(lista_cidades)"
   ]
  },
  {
   "cell_type": "code",
   "execution_count": null,
   "metadata": {},
   "outputs": [],
   "source": [
    "lista_cidades.insert(10,\"Porto\")\n",
    "print(lista_cidades)"
   ]
  },
  {
   "cell_type": "markdown",
   "metadata": {},
   "source": [
    "Método <b>extend()</b> permite adicionar uma lista no final de outra lista"
   ]
  },
  {
   "cell_type": "code",
   "execution_count": null,
   "metadata": {},
   "outputs": [],
   "source": [
    "lista_frutas=[\"maçã\",\"laranja\",\"morango\"]\n",
    "lista_arvores=[\"castanheiro\",\"pinheiro\"]\n",
    "\n",
    "lista_frutas.extend(lista_arvores)\n",
    "print(lista_frutas)\n",
    "lista_frutas.extend([\"pêra\",\"pereira\"])\n",
    "print(lista_frutas)"
   ]
  },
  {
   "cell_type": "code",
   "execution_count": null,
   "metadata": {},
   "outputs": [],
   "source": [
    "lista = lista_frutas + lista_arvores\n",
    "print(lista)"
   ]
  },
  {
   "cell_type": "markdown",
   "metadata": {},
   "source": [
    "### Remover elementos de uma lista"
   ]
  },
  {
   "cell_type": "markdown",
   "metadata": {},
   "source": [
    "Método <b>remove()</b> remove o primeiro item da lista cujo valor é igual ao indicado"
   ]
  },
  {
   "cell_type": "code",
   "execution_count": null,
   "metadata": {},
   "outputs": [],
   "source": [
    "lista_frutas=[\"maçã\",\"laranja\",\"morango\",\"pêra\"]\n",
    "\n",
    "print(lista_frutas)\n",
    "lista_frutas.remove(\"laranja\")\n",
    "print(lista_frutas)"
   ]
  },
  {
   "cell_type": "markdown",
   "metadata": {},
   "source": [
    "Método <b>pop()</b> remove e devolve um item de uma posição específica da lista."
   ]
  },
  {
   "cell_type": "code",
   "execution_count": null,
   "metadata": {},
   "outputs": [],
   "source": [
    "lista_marcas=[\"ford\",\"ferrari\",\"bmw\"]\n",
    "meu_carro=lista_marcas.pop(1)\n",
    "print(meu_carro)\n",
    "print(lista_marcas)"
   ]
  },
  {
   "cell_type": "markdown",
   "metadata": {},
   "source": [
    "Instrução <b>del</b> pode ser utilizada para remover um item ou vários"
   ]
  },
  {
   "cell_type": "code",
   "execution_count": null,
   "metadata": {},
   "outputs": [],
   "source": [
    "lista_marcas=[\"ford\",\"ferrari\",\"bmw\",\"vw\"]\n",
    "del lista_marcas[1:3] #remove os elementos nas posições 1 e 2\n",
    "print(lista_marcas)"
   ]
  },
  {
   "cell_type": "markdown",
   "metadata": {},
   "source": [
    "Apagar todos os elementos da lista"
   ]
  },
  {
   "cell_type": "code",
   "execution_count": null,
   "metadata": {},
   "outputs": [],
   "source": [
    "lista_marcas=[\"ford\",\"ferrari\",\"bmw\",\"vw\"]\n",
    "lista_marcas.clear()\n",
    "print(lista_marcas)"
   ]
  },
  {
   "cell_type": "code",
   "execution_count": null,
   "metadata": {},
   "outputs": [],
   "source": [
    "lista_marcas=[\"ford\",\"ferrari\",\"bmw\",\"vw\"]\n",
    "lista_marcas=[]\n",
    "print(lista_marcas)"
   ]
  },
  {
   "cell_type": "markdown",
   "metadata": {},
   "source": [
    "### Repetição"
   ]
  },
  {
   "cell_type": "code",
   "execution_count": null,
   "metadata": {},
   "outputs": [],
   "source": [
    "lista_marcas = [\"ford\",\"ferrari\",\"bmw\",\"vw\"]\n",
    "print(lista_marcas*2)"
   ]
  },
  {
   "cell_type": "markdown",
   "metadata": {},
   "source": [
    "### Pesquisar elementos"
   ]
  },
  {
   "cell_type": "markdown",
   "metadata": {},
   "source": [
    "Método <b>index()</b> devolve a posição do elemento indicado"
   ]
  },
  {
   "cell_type": "code",
   "execution_count": null,
   "metadata": {},
   "outputs": [],
   "source": [
    "lista_marcas=[\"ford\",\"ferrari\",\"bmw\",\"vw\"]\n",
    "meu_carro=lista_marcas.index(\"vw\")\n",
    "print(meu_carro)\n",
    "meu_carro=lista_marcas.index(\"renault\") #dá erro porque não existe\n",
    "print(meu_carro)"
   ]
  },
  {
   "cell_type": "markdown",
   "metadata": {},
   "source": [
    "Testar se um elemento existe na lista com o operador <b>in</b>"
   ]
  },
  {
   "cell_type": "code",
   "execution_count": null,
   "metadata": {},
   "outputs": [],
   "source": [
    "lista_marcas=[\"ford\",\"ferrari\",\"bmw\",\"vw\"]\n",
    "meu_carro=\"renault\"\n",
    "\n",
    "if meu_carro in lista_marcas:\n",
    "    print(\"Existe\")\n",
    "else:\n",
    "    print(\"Não existe\")"
   ]
  },
  {
   "cell_type": "markdown",
   "metadata": {},
   "source": [
    "### Contar ocorrências"
   ]
  },
  {
   "cell_type": "code",
   "execution_count": null,
   "metadata": {},
   "outputs": [],
   "source": [
    "marcas=[\"asus\",\"hp\",\"apple\",\"asus\",\"acer\"]\n",
    "print(marcas.count(\"asus\"))\n",
    "print(marcas.count(\"samsung\"))"
   ]
  },
  {
   "cell_type": "markdown",
   "metadata": {},
   "source": [
    "### Escolher um elemento de forma aleatória"
   ]
  },
  {
   "cell_type": "code",
   "execution_count": null,
   "metadata": {},
   "outputs": [],
   "source": [
    "import random\n",
    "\n",
    "lista = [\"ford\",\"ferrari\",\"bmw\",\"vw\",\"fiat\",\"renault\"]\n",
    "\n",
    "meu_carro = random.choice(lista)\n",
    "print(meu_carro)"
   ]
  },
  {
   "cell_type": "code",
   "execution_count": null,
   "metadata": {},
   "outputs": [],
   "source": [
    "import random\n",
    "\n",
    "outro_carro = lista[random.randint(0,len(lista)-1)]\n",
    "print(outro_carro)"
   ]
  },
  {
   "cell_type": "markdown",
   "metadata": {},
   "source": [
    "### Fatiamento"
   ]
  },
  {
   "cell_type": "code",
   "execution_count": null,
   "metadata": {},
   "outputs": [],
   "source": [
    "lista = [\"ford\",\"ferrari\",\"bmw\",\"vw\",\"fiat\",\"renault\"]\n",
    "#posições: 0 e 1\n",
    "meus_carros=lista[:2]\n",
    "print(meus_carros)\n",
    "#posições: 1 até ao final\n",
    "outros_carros=lista[1:]\n",
    "print(outros_carros)\n",
    "#posições: todas por ordem invertida\n",
    "print(lista[::-1])"
   ]
  },
  {
   "cell_type": "markdown",
   "metadata": {},
   "source": [
    "### Criar uma lista com dados filtrados ou alterados de outra lista"
   ]
  },
  {
   "cell_type": "markdown",
   "metadata": {},
   "source": [
    "O Python permite criar listas utilizando um método denominado <b>lista por compreensão</b> que possibilita escrever programas mais compactos."
   ]
  },
  {
   "cell_type": "markdown",
   "metadata": {},
   "source": [
    "A forma mais simples de uma lista por compreensão é:\n",
    "<b>[ <expressão> for <item> in <iterável> ]</b>"
   ]
  },
  {
   "cell_type": "code",
   "execution_count": null,
   "metadata": {},
   "outputs": [],
   "source": [
    "import random\n",
    "\n",
    "#uma função que devolve uma lista de n números aleatórios\n",
    "def gera_lista(n):\n",
    "    return [random.randint(1,100) for i in range(n) ]\n",
    "\n",
    "print(gera_lista(5))"
   ]
  },
  {
   "cell_type": "code",
   "execution_count": null,
   "metadata": {},
   "outputs": [],
   "source": [
    "numeros=[1,2,3,4,5,6,7,8,9,10]\n",
    "\n",
    "dobro = [n*2 for n in numeros]\n",
    "\n",
    "print(dobro)"
   ]
  },
  {
   "cell_type": "markdown",
   "metadata": {},
   "source": [
    "Uma lista por compreensão com filtro "
   ]
  },
  {
   "cell_type": "code",
   "execution_count": null,
   "metadata": {},
   "outputs": [],
   "source": [
    "lista_marcas=[\"ford\",\"ferrari\",\"bmw\",\"vw\"]\n",
    "\n",
    "#lista dos carros cujo nome começa por f\n",
    "lista_marcas_f=[elemento for elemento in lista_marcas if elemento.startswith(\"f\")]\n",
    "\n",
    "print(lista_marcas_f)"
   ]
  },
  {
   "cell_type": "code",
   "execution_count": null,
   "metadata": {},
   "outputs": [],
   "source": [
    "numeros=[1,2,3,4,5,6,7,8,9,10]\n",
    "\n",
    "numeros_pares=[x for x in numeros if x%2==0]\n",
    "print(numeros_pares)"
   ]
  },
  {
   "cell_type": "code",
   "execution_count": null,
   "metadata": {},
   "outputs": [],
   "source": [
    "palavras=[\"maçã\", \"sol\", \"lua\", \"estrela\", \"céu\"]\n",
    "palavras_longas=[palavra for palavra in palavras if len(palavra)>3]\n",
    "print(palavras_longas)"
   ]
  },
  {
   "cell_type": "markdown",
   "metadata": {},
   "source": [
    "### Listas e funções"
   ]
  },
  {
   "cell_type": "markdown",
   "metadata": {},
   "source": [
    "As listas são passadas por referência para as funções, isto significa que a função recebe a lista e não uma cópia e todas as alterações realizadas dentro da função afetam a lista que foi passada para chamar a função."
   ]
  },
  {
   "cell_type": "code",
   "execution_count": null,
   "metadata": {},
   "outputs": [],
   "source": [
    "lista=[\"um\",\"dois\",\"três\",\"quatro\"]\n",
    "\n",
    "def RemoveUmElemento(elementos,elemento_remover):\n",
    "    elementos.remove(elemento_remover)\n",
    "\n",
    "print(lista)\n",
    "RemoveUmElemento(lista,\"três\")\n",
    "print(lista)"
   ]
  },
  {
   "cell_type": "markdown",
   "metadata": {},
   "source": [
    "### Converter um dicionário numa lista"
   ]
  },
  {
   "cell_type": "code",
   "execution_count": null,
   "metadata": {},
   "outputs": [],
   "source": [
    "meu_dicionario = {'a':1,'b':2,'c':3,'d':4}\n",
    "\n",
    "#converter o dicionário numa lista de tuplos\n",
    "#cada elemento da lista é um tuplo com a chave e o valor\n",
    "minha_lista = list(meu_dicionario.items())\n",
    "print(minha_lista)"
   ]
  },
  {
   "cell_type": "markdown",
   "metadata": {},
   "source": [
    "### Converter duas listas em um dicionário"
   ]
  },
  {
   "cell_type": "markdown",
   "metadata": {},
   "source": [
    "A função <b>zip</b> cria uma lista de tuplos com os elementos de duas listas combinados pela ordem: [(elemento1_listaA,elemento1_listaB),(elemento2_listaA,elemento2_listaB),...]\n",
    "A função <b>dict</b> converte a lista de tuplos num dicionário em que o primeiro elemento do tuplo é a chave e o segundo elemento é o valor."
   ]
  },
  {
   "cell_type": "code",
   "execution_count": null,
   "metadata": {},
   "outputs": [],
   "source": [
    "alunos = ['Ana', 'Joaquim', 'Carla']\n",
    "notas = [8, 9, 7]\n",
    "idades = dict(zip(alunos, notas))\n",
    "print(idades)"
   ]
  },
  {
   "cell_type": "markdown",
   "metadata": {},
   "source": [
    "### Função zip"
   ]
  },
  {
   "cell_type": "code",
   "execution_count": null,
   "metadata": {},
   "outputs": [],
   "source": [
    "lista1 = [1, 2, 3]\n",
    "lista2 = ['a', 'b', 'c']\n",
    "resultado = zip(lista1, lista2)\n",
    "print(list(resultado))"
   ]
  },
  {
   "cell_type": "code",
   "execution_count": null,
   "metadata": {},
   "outputs": [],
   "source": [
    "for numero, letra in zip(lista1, lista2):\n",
    "    print(f'{numero}: {letra}')"
   ]
  },
  {
   "cell_type": "markdown",
   "metadata": {},
   "source": [
    "### Converter uma string numa lista"
   ]
  },
  {
   "cell_type": "code",
   "execution_count": null,
   "metadata": {},
   "outputs": [],
   "source": [
    "meus_numeros = \"10 5 12 -4 0 11\"\n",
    "minha_lista=meus_numeros.split(\" \")\n",
    "print(minha_lista)\n",
    "print(minha_lista[2])"
   ]
  },
  {
   "cell_type": "markdown",
   "metadata": {},
   "source": [
    "### Criar uma lista de dicionários"
   ]
  },
  {
   "cell_type": "markdown",
   "metadata": {},
   "source": [
    "As listas podem conter qualquer tipo de dados, cada elemento pode ser um inteiro, uma string ou até outra lista, array ou dicionário.\n",
    "Com dicionários e listas podemos guardar muitos dados de forma mais estruturada."
   ]
  },
  {
   "cell_type": "code",
   "execution_count": null,
   "metadata": {},
   "outputs": [],
   "source": [
    "lista_alunos=[]\n",
    "aluno_a={'nome':'joaquim','turma':'10ºT','processo':'12345'}\n",
    "aluno_b={'nome':'maria','turma':'10ºT','processo':'54321'}\n",
    "aluno_c={'nome':'antónio','turma':'10ºT','processo':'12300'}\n",
    "lista_alunos.append(aluno_a)\n",
    "lista_alunos.append(aluno_b)\n",
    "lista_alunos.append(aluno_c)\n",
    "\n",
    "#mostrar o nome do primeiro aluno\n",
    "print(lista_alunos[0]['nome'])\n",
    "\n",
    "#adicionar um aluno com dados do utilizador\n",
    "nome=input(\"Nome do aluno:\")\n",
    "turma=input(\"Turma do aluno:\")\n",
    "processo=input(\"Processo do aluno:\")\n",
    "aluno_novo={'nome':nome,'turma':turma,'processo':processo}\n",
    "lista_alunos.append(aluno_novo)\n",
    "\n",
    "for aluno in lista_alunos:\n",
    "    print(aluno['nome'])"
   ]
  },
  {
   "cell_type": "markdown",
   "metadata": {},
   "source": [
    "### Ordenação"
   ]
  },
  {
   "cell_type": "code",
   "execution_count": null,
   "metadata": {},
   "outputs": [],
   "source": [
    "lista_numeros=[33,-1,4,5,1]\n",
    "lista_ordenada=sorted(lista_numeros)\n",
    "print(lista_ordenada)"
   ]
  },
  {
   "cell_type": "code",
   "execution_count": null,
   "metadata": {},
   "outputs": [],
   "source": [
    "lista_numeros=[33,-1,4,5,6,1]\n",
    "lista_numeros.sort()\n",
    "print(lista_numeros)"
   ]
  },
  {
   "cell_type": "code",
   "execution_count": null,
   "metadata": {},
   "outputs": [],
   "source": [
    "nomes=[\"maria\",\"joaquim\",\"ana\",\"carla\"]\n",
    "nomes_ordenados=sorted(nomes)\n",
    "print(nomes_ordenados)"
   ]
  },
  {
   "cell_type": "code",
   "execution_count": null,
   "metadata": {},
   "outputs": [],
   "source": [
    "nomes=[\"maria\",\"joaquim\",\"ana\",\"carla\"]\n",
    "nomes.sort()\n",
    "print(nomes)"
   ]
  }
 ],
 "metadata": {
  "kernelspec": {
   "display_name": "Python 3",
   "language": "python",
   "name": "python3"
  },
  "language_info": {
   "codemirror_mode": {
    "name": "ipython",
    "version": 3
   },
   "file_extension": ".py",
   "mimetype": "text/x-python",
   "name": "python",
   "nbconvert_exporter": "python",
   "pygments_lexer": "ipython3",
   "version": "3.12.2"
  }
 },
 "nbformat": 4,
 "nbformat_minor": 2
}
