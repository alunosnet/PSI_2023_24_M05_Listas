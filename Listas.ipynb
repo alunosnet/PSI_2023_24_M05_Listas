{
 "cells": [
  {
   "cell_type": "markdown",
   "metadata": {},
   "source": [
    "# Listas"
   ]
  },
  {
   "cell_type": "markdown",
   "metadata": {},
   "source": [
    "As listas são estruturas de dados que permitem armazenar um coleção de itens de forma dinâmica, ou seja, o número máximo de itens não necessita de estar definido no momento de definição da lista. Os elementos da lista pode ser de diferentes tipos, incluindo outras listas."
   ]
  },
  {
   "cell_type": "markdown",
   "metadata": {},
   "source": [
    "### Definir uma lista"
   ]
  },
  {
   "cell_type": "code",
   "execution_count": null,
   "metadata": {},
   "outputs": [],
   "source": [
    "minha_lista=[1,2,3]\n",
    "lista_vazia=[]\n",
    "lista_nomes=[\"joaquim\",\"maria\",\"antónio\"]\n",
    "lista_mista=[1,\"joaquim\",[\"outra\",\"lista\"]]"
   ]
  },
  {
   "cell_type": "markdown",
   "metadata": {},
   "source": [
    "### Listar elementos"
   ]
  },
  {
   "cell_type": "code",
   "execution_count": null,
   "metadata": {},
   "outputs": [],
   "source": [
    "print(minha_lista[1])\n",
    "\n",
    "print(lista_nomes[0])\n",
    "\n",
    "print(lista_mista[2])\n",
    "\n",
    "print(lista_mista[2][1])"
   ]
  },
  {
   "cell_type": "markdown",
   "metadata": {},
   "source": [
    "Listar todos"
   ]
  },
  {
   "cell_type": "code",
   "execution_count": null,
   "metadata": {},
   "outputs": [],
   "source": [
    "for item in minha_lista:\n",
    "    print(item)"
   ]
  },
  {
   "cell_type": "code",
   "execution_count": null,
   "metadata": {},
   "outputs": [],
   "source": [
    "for posicao in range(len(lista_nomes)):\n",
    "    print(lista_nomes[posicao])"
   ]
  },
  {
   "cell_type": "markdown",
   "metadata": {},
   "source": [
    "### Adicionar elementos a uma lista"
   ]
  },
  {
   "cell_type": "markdown",
   "metadata": {},
   "source": [
    "Método append() adiciona um item no final da lista"
   ]
  },
  {
   "cell_type": "code",
   "execution_count": null,
   "metadata": {},
   "outputs": [],
   "source": [
    "lista_cores=[\"vermelho\",\"verde\",\"azul\"]\n",
    "\n",
    "lista_cores.append(\"amarelo\")\n",
    "\n",
    "print(lista_cores)"
   ]
  },
  {
   "cell_type": "markdown",
   "metadata": {},
   "source": [
    "Método insert() insere um item numa posição específica:"
   ]
  },
  {
   "cell_type": "code",
   "execution_count": null,
   "metadata": {},
   "outputs": [],
   "source": [
    "lista_cidades=[\"Viseu\",\"Tondela\",\"Mangualde\"]\n",
    "lista_cidades.insert(0,\"Lisboa\")\n",
    "print(lista_cidades)"
   ]
  },
  {
   "cell_type": "code",
   "execution_count": null,
   "metadata": {},
   "outputs": [],
   "source": [
    "lista_cidades.insert(10,\"Porto\")\n",
    "print(lista_cidades)"
   ]
  },
  {
   "cell_type": "markdown",
   "metadata": {},
   "source": [
    "Método extend() permite adicionar uma lista no final de outra lista"
   ]
  },
  {
   "cell_type": "code",
   "execution_count": null,
   "metadata": {},
   "outputs": [],
   "source": [
    "lista_frutas=[\"maçã\",\"laranja\",\"morango\"]\n",
    "lista_arvores=[\"castanheiro\",\"pinheiro\"]\n",
    "\n",
    "lista_frutas.extend(lista_arvores)\n",
    "print(lista_frutas)\n",
    "lista_frutas.extend([\"pêra\",\"pereira\"])\n",
    "print(lista_frutas)"
   ]
  },
  {
   "cell_type": "markdown",
   "metadata": {},
   "source": [
    "### Remover elementos de uma lista"
   ]
  },
  {
   "cell_type": "markdown",
   "metadata": {},
   "source": [
    "Método remove() remove o primeiro item da lista cujo valor é igual ao indicado"
   ]
  },
  {
   "cell_type": "code",
   "execution_count": null,
   "metadata": {},
   "outputs": [],
   "source": [
    "lista_frutas=[\"maçã\",\"laranja\",\"morango\",\"pêra\"]\n",
    "\n",
    "print(lista_frutas)\n",
    "lista_frutas.remove(\"laranja\")\n",
    "print(lista_frutas)"
   ]
  },
  {
   "cell_type": "markdown",
   "metadata": {},
   "source": [
    "Método pop() remove e devolve um item de uma posição específica da lista."
   ]
  },
  {
   "cell_type": "code",
   "execution_count": null,
   "metadata": {},
   "outputs": [],
   "source": [
    "lista_marcas=[\"ford\",\"ferrari\",\"bmw\"]\n",
    "meu_carro=lista_marcas.pop(1)\n",
    "print(meu_carro)\n",
    "print(lista_marcas)"
   ]
  },
  {
   "cell_type": "markdown",
   "metadata": {},
   "source": [
    "Instrução del pode ser utilizada para remover um item ou vários"
   ]
  },
  {
   "cell_type": "code",
   "execution_count": null,
   "metadata": {},
   "outputs": [],
   "source": [
    "lista_marcas=[\"ford\",\"ferrari\",\"bmw\",\"vw\"]\n",
    "del lista_marcas[1:3] #remove os elementos nas posições 1 e 2\n",
    "print(lista_marcas)"
   ]
  },
  {
   "cell_type": "markdown",
   "metadata": {},
   "source": [
    "Apagar todos os elementos da lista"
   ]
  },
  {
   "cell_type": "code",
   "execution_count": null,
   "metadata": {},
   "outputs": [],
   "source": [
    "lista_marcas=[\"ford\",\"ferrari\",\"bmw\",\"vw\"]\n",
    "lista_marcas.clear()\n",
    "print(lista_marcas)"
   ]
  },
  {
   "cell_type": "code",
   "execution_count": null,
   "metadata": {},
   "outputs": [],
   "source": [
    "lista_marcas=[\"ford\",\"ferrari\",\"bmw\",\"vw\"]\n",
    "lista_marcas=[]\n",
    "print(lista_marcas)"
   ]
  },
  {
   "cell_type": "markdown",
   "metadata": {},
   "source": [
    "### Pesquisar elementos"
   ]
  },
  {
   "cell_type": "markdown",
   "metadata": {},
   "source": [
    "Método index() devolve a posição do elemento indicado"
   ]
  },
  {
   "cell_type": "code",
   "execution_count": null,
   "metadata": {},
   "outputs": [],
   "source": [
    "lista_marcas=[\"ford\",\"ferrari\",\"bmw\",\"vw\"]\n",
    "meu_carro=lista_marcas.index(\"vw\")\n",
    "print(meu_carro)\n",
    "meu_carro=lista_marcas.index(\"renault\") #dá erro porque não existe\n",
    "print(meu_carro)"
   ]
  },
  {
   "cell_type": "markdown",
   "metadata": {},
   "source": [
    "Testar se um elemento existe na lista"
   ]
  },
  {
   "cell_type": "code",
   "execution_count": null,
   "metadata": {},
   "outputs": [],
   "source": [
    "lista_marcas=[\"ford\",\"ferrari\",\"bmw\",\"vw\"]\n",
    "meu_carro=\"renault\"\n",
    "\n",
    "if meu_carro in lista_marcas:\n",
    "    print(\"Existe\")\n",
    "else:\n",
    "    print(\"Não existe\")"
   ]
  },
  {
   "cell_type": "markdown",
   "metadata": {},
   "source": [
    "### Escolher um elemento de forma aleatória"
   ]
  },
  {
   "cell_type": "code",
   "execution_count": null,
   "metadata": {},
   "outputs": [],
   "source": [
    "import random\n",
    "\n",
    "lista = [\"ford\",\"ferrari\",\"bmw\",\"vw\",\"fiat\",\"renault\"]\n",
    "\n",
    "meu_carro = random.choice(lista)\n",
    "print(meu_carro)"
   ]
  },
  {
   "cell_type": "markdown",
   "metadata": {},
   "source": [
    "### Criar uma lista com dados filtrados ou alterados de outra lista"
   ]
  },
  {
   "cell_type": "code",
   "execution_count": null,
   "metadata": {},
   "outputs": [],
   "source": [
    "lista_marcas=[\"ford\",\"ferrari\",\"bmw\",\"vw\"]\n",
    "\n",
    "lista_marcas_f=[elemento for elemento in lista_marcas if elemento.startswith(\"f\")]\n",
    "\n",
    "print(lista_marcas_f)"
   ]
  },
  {
   "cell_type": "code",
   "execution_count": null,
   "metadata": {},
   "outputs": [],
   "source": [
    "numeros=[1,2,3,4,5,6,7,8,9,10]\n",
    "\n",
    "numeros_pares=[x for x in numeros if x%2==0]\n",
    "print(numeros_pares)"
   ]
  },
  {
   "cell_type": "code",
   "execution_count": null,
   "metadata": {},
   "outputs": [],
   "source": [
    "numeros=[1,2,3,4,5,6,7,8,9,10]\n",
    "\n",
    "dobro = [n*2 for n in numeros]\n",
    "\n",
    "print(dobro)"
   ]
  },
  {
   "cell_type": "code",
   "execution_count": null,
   "metadata": {},
   "outputs": [],
   "source": [
    "palavras=[\"maçã\", \"sol\", \"lua\", \"estrela\", \"céu\"]\n",
    "palavras_longas=[palavra for palavra in palavras if len(palavra)>3]\n",
    "print(palavras_longas)"
   ]
  },
  {
   "cell_type": "markdown",
   "metadata": {},
   "source": [
    "### Listas e funções"
   ]
  },
  {
   "cell_type": "markdown",
   "metadata": {},
   "source": [
    "As listas são passadas por referência para as funções, isto significa que a função recebe a lista e não uma cópia e todas as alterações realizadas dentro da função afetam a lista que foi passada para chamar a função."
   ]
  },
  {
   "cell_type": "code",
   "execution_count": null,
   "metadata": {},
   "outputs": [],
   "source": [
    "lista=[\"um\",\"dois\",\"três\",\"quatro\"]\n",
    "\n",
    "def RemoveUmElemento(elementos,elemento_remover):\n",
    "    elementos.remove(elemento_remover)\n",
    "\n",
    "print(lista)\n",
    "RemoveUmElemento(lista,\"três\")\n",
    "print(lista)"
   ]
  }
 ],
 "metadata": {
  "kernelspec": {
   "display_name": "Python 3",
   "language": "python",
   "name": "python3"
  },
  "language_info": {
   "codemirror_mode": {
    "name": "ipython",
    "version": 3
   },
   "file_extension": ".py",
   "mimetype": "text/x-python",
   "name": "python",
   "nbconvert_exporter": "python",
   "pygments_lexer": "ipython3",
   "version": "3.12.2"
  }
 },
 "nbformat": 4,
 "nbformat_minor": 2
}
